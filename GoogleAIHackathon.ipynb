{
 "cells": [
  {
   "cell_type": "code",
   "execution_count": 5,
   "id": "01d91add-db1a-4ec1-ace8-a8f33489d687",
   "metadata": {},
   "outputs": [
    {
     "name": "stdout",
     "output_type": "stream",
     "text": [
      "Collecting streamlit\n",
      "  Downloading streamlit-1.33.0-py2.py3-none-any.whl (8.1 MB)\n",
      "Collecting rich<14,>=10.14.0\n",
      "  Downloading rich-13.7.1-py3-none-any.whl (240 kB)\n",
      "Collecting watchdog>=2.1.5\n",
      "  Downloading watchdog-4.0.0-py3-none-win_amd64.whl (82 kB)\n",
      "Collecting toml<2,>=0.10.1\n",
      "  Using cached toml-0.10.2-py2.py3-none-any.whl (16 kB)\n",
      "Requirement already satisfied: numpy<2,>=1.19.3 in c:\\users\\user\\appdata\\local\\programs\\python\\python310\\lib\\site-packages (from streamlit) (1.26.3)\n",
      "Requirement already satisfied: requests<3,>=2.27 in c:\\users\\user\\appdata\\local\\programs\\python\\python310\\lib\\site-packages (from streamlit) (2.31.0)\n",
      "Collecting altair<6,>=4.0\n",
      "  Downloading altair-5.3.0-py3-none-any.whl (857 kB)\n",
      "Collecting gitpython!=3.1.19,<4,>=3.0.7\n",
      "  Downloading GitPython-3.1.43-py3-none-any.whl (207 kB)\n",
      "Requirement already satisfied: click<9,>=7.0 in c:\\users\\user\\appdata\\local\\programs\\python\\python310\\lib\\site-packages (from streamlit) (8.1.7)\n",
      "Collecting pydeck<1,>=0.8.0b4\n",
      "  Downloading pydeck-0.9.0-py2.py3-none-any.whl (6.9 MB)\n",
      "Requirement already satisfied: tornado<7,>=6.0.3 in c:\\users\\user\\appdata\\local\\programs\\python\\python310\\lib\\site-packages (from streamlit) (6.4)\n",
      "Collecting pyarrow>=7.0\n",
      "  Downloading pyarrow-16.0.0-cp310-cp310-win_amd64.whl (25.9 MB)\n",
      "Requirement already satisfied: typing-extensions<5,>=4.3.0 in c:\\users\\user\\appdata\\local\\programs\\python\\python310\\lib\\site-packages (from streamlit) (4.9.0)\n",
      "Requirement already satisfied: packaging<25,>=16.8 in c:\\users\\user\\appdata\\local\\programs\\python\\python310\\lib\\site-packages (from streamlit) (23.2)\n",
      "Requirement already satisfied: tenacity<9,>=8.1.0 in c:\\users\\user\\appdata\\local\\programs\\python\\python310\\lib\\site-packages (from streamlit) (8.2.3)\n",
      "Requirement already satisfied: pillow<11,>=7.1.0 in c:\\users\\user\\appdata\\local\\programs\\python\\python310\\lib\\site-packages (from streamlit) (10.2.0)\n",
      "Collecting cachetools<6,>=4.0\n",
      "  Downloading cachetools-5.3.3-py3-none-any.whl (9.3 kB)\n",
      "Collecting protobuf<5,>=3.20\n",
      "  Downloading protobuf-4.25.3-cp310-abi3-win_amd64.whl (413 kB)\n",
      "Collecting blinker<2,>=1.0.0\n",
      "  Downloading blinker-1.8.1-py3-none-any.whl (9.5 kB)\n",
      "Requirement already satisfied: pandas<3,>=1.3.0 in c:\\users\\user\\appdata\\local\\programs\\python\\python310\\lib\\site-packages (from streamlit) (2.1.4)\n",
      "Requirement already satisfied: toolz in c:\\users\\user\\appdata\\local\\programs\\python\\python310\\lib\\site-packages (from altair<6,>=4.0->streamlit) (0.12.1)\n",
      "Requirement already satisfied: jinja2 in c:\\users\\user\\appdata\\local\\programs\\python\\python310\\lib\\site-packages (from altair<6,>=4.0->streamlit) (3.1.3)\n",
      "Requirement already satisfied: jsonschema>=3.0 in c:\\users\\user\\appdata\\local\\programs\\python\\python310\\lib\\site-packages (from altair<6,>=4.0->streamlit) (4.21.1)\n",
      "Requirement already satisfied: colorama in c:\\users\\user\\appdata\\local\\programs\\python\\python310\\lib\\site-packages (from click<9,>=7.0->streamlit) (0.4.6)\n",
      "Collecting gitdb<5,>=4.0.1\n",
      "  Downloading gitdb-4.0.11-py3-none-any.whl (62 kB)\n",
      "Collecting smmap<6,>=3.0.1\n",
      "  Downloading smmap-5.0.1-py3-none-any.whl (24 kB)\n",
      "Requirement already satisfied: referencing>=0.28.4 in c:\\users\\user\\appdata\\local\\programs\\python\\python310\\lib\\site-packages (from jsonschema>=3.0->altair<6,>=4.0->streamlit) (0.34.0)\n",
      "Requirement already satisfied: attrs>=22.2.0 in c:\\users\\user\\appdata\\local\\programs\\python\\python310\\lib\\site-packages (from jsonschema>=3.0->altair<6,>=4.0->streamlit) (23.2.0)\n",
      "Requirement already satisfied: jsonschema-specifications>=2023.03.6 in c:\\users\\user\\appdata\\local\\programs\\python\\python310\\lib\\site-packages (from jsonschema>=3.0->altair<6,>=4.0->streamlit) (2023.12.1)\n",
      "Requirement already satisfied: rpds-py>=0.7.1 in c:\\users\\user\\appdata\\local\\programs\\python\\python310\\lib\\site-packages (from jsonschema>=3.0->altair<6,>=4.0->streamlit) (0.18.0)\n",
      "Requirement already satisfied: tzdata>=2022.1 in c:\\users\\user\\appdata\\local\\programs\\python\\python310\\lib\\site-packages (from pandas<3,>=1.3.0->streamlit) (2023.4)\n",
      "Requirement already satisfied: pytz>=2020.1 in c:\\users\\user\\appdata\\local\\programs\\python\\python310\\lib\\site-packages (from pandas<3,>=1.3.0->streamlit) (2023.3.post1)\n",
      "Requirement already satisfied: python-dateutil>=2.8.2 in c:\\users\\user\\appdata\\local\\programs\\python\\python310\\lib\\site-packages (from pandas<3,>=1.3.0->streamlit) (2.8.2)\n",
      "Requirement already satisfied: MarkupSafe>=2.0 in c:\\users\\user\\appdata\\local\\programs\\python\\python310\\lib\\site-packages (from jinja2->altair<6,>=4.0->streamlit) (2.1.3)\n",
      "Requirement already satisfied: six>=1.5 in c:\\users\\user\\appdata\\local\\programs\\python\\python310\\lib\\site-packages (from python-dateutil>=2.8.2->pandas<3,>=1.3.0->streamlit) (1.16.0)\n",
      "Requirement already satisfied: charset-normalizer<4,>=2 in c:\\users\\user\\appdata\\local\\programs\\python\\python310\\lib\\site-packages (from requests<3,>=2.27->streamlit) (3.3.2)\n",
      "Requirement already satisfied: idna<4,>=2.5 in c:\\users\\user\\appdata\\local\\programs\\python\\python310\\lib\\site-packages (from requests<3,>=2.27->streamlit) (3.6)\n",
      "Requirement already satisfied: urllib3<3,>=1.21.1 in c:\\users\\user\\appdata\\local\\programs\\python\\python310\\lib\\site-packages (from requests<3,>=2.27->streamlit) (2.2.1)\n",
      "Requirement already satisfied: certifi>=2017.4.17 in c:\\users\\user\\appdata\\local\\programs\\python\\python310\\lib\\site-packages (from requests<3,>=2.27->streamlit) (2024.2.2)\n",
      "Collecting markdown-it-py>=2.2.0\n",
      "  Using cached markdown_it_py-3.0.0-py3-none-any.whl (87 kB)\n",
      "Requirement already satisfied: pygments<3.0.0,>=2.13.0 in c:\\users\\user\\appdata\\local\\programs\\python\\python310\\lib\\site-packages (from rich<14,>=10.14.0->streamlit) (2.17.2)\n",
      "Collecting mdurl~=0.1\n",
      "  Using cached mdurl-0.1.2-py3-none-any.whl (10.0 kB)\n",
      "Installing collected packages: smmap, mdurl, markdown-it-py, gitdb, watchdog, toml, rich, pydeck, pyarrow, protobuf, gitpython, cachetools, blinker, altair, streamlit\n",
      "Successfully installed altair-5.3.0 blinker-1.8.1 cachetools-5.3.3 gitdb-4.0.11 gitpython-3.1.43 markdown-it-py-3.0.0 mdurl-0.1.2 protobuf-4.25.3 pyarrow-16.0.0 pydeck-0.9.0 rich-13.7.1 smmap-5.0.1 streamlit-1.33.0 toml-0.10.2 watchdog-4.0.0\n"
     ]
    },
    {
     "name": "stderr",
     "output_type": "stream",
     "text": [
      "WARNING: You are using pip version 21.2.3; however, version 24.0 is available.\n",
      "You should consider upgrading via the 'C:\\Users\\user\\AppData\\Local\\Programs\\Python\\Python310\\python.exe -m pip install --upgrade pip' command.\n"
     ]
    }
   ],
   "source": [
    "!pip install streamlit"
   ]
  },
  {
   "cell_type": "code",
   "execution_count": 2,
   "id": "lP_PYr1Ef2Go",
   "metadata": {
    "colab": {
     "base_uri": "https://localhost:8080/",
     "height": 542
    },
    "executionInfo": {
     "elapsed": 189,
     "status": "ok",
     "timestamp": 1714345316184,
     "user": {
      "displayName": "",
      "userId": ""
     },
     "user_tz": -60
    },
    "id": "lP_PYr1Ef2Go",
    "outputId": "5cfab63b-7b0e-43cf-912f-a85f2cd7a009"
   },
   "outputs": [
    {
     "name": "stdout",
     "output_type": "stream",
     "text": [
      "Writing llm_agent.py\n"
     ]
    }
   ],
   "source": [
    "%%writefile llm_agent.py\n",
    "import streamlit as st\n",
    "from langchain.llms import VertexAI\n",
    "import json\n",
    "from langchain_experimental.agents import create_csv_agent\n",
    "\n",
    "# Streamlit App\n",
    "st.set_page_config(layout=\"wide\")\n",
    "st.title(\"LangChain Agent for CSV with Vertex AI\")\n",
    "uploaded_file = st.file_uploader(\"Upload CSV File\", type = \"csv\")\n",
    "\n",
    "data_path = \"gs://cloud-ai-platform-fcb3f86b-3cfa-47fb-8f01-a855e6e2ed06/Connections.csv\"  # Replace with your Cloud Storage path\n",
    "\n",
    "def write_response(response_dict: dict):\n",
    "    # Check if the response is an answer.\n",
    "    if \"answer\" in response_dict:\n",
    "        st.write(response_dict[\"answer\"])\n",
    "\n",
    "    # Check if the response is a bar chart.\n",
    "    if \"bar\" in response_dict:\n",
    "        data = response_dict[\"bar\"]\n",
    "        df = pd.DataFrame(data_path)\n",
    "        df.set_index(\"columns\", inplace=True)\n",
    "        st.bar_chart(df)\n",
    "\n",
    "if uploaded_file is not None:\n",
    "  llm = VertexAI(model_name=\"text-bison@001\", temperature=0)\n",
    "  agent = create_csv_agent(llm, data_path, verbose=True )\n",
    "  user_query = st.text_input(\"Enter your question about the CSV:\")\n",
    "\n",
    "  if user_query:\n",
    "    llm_response = agent.run(user_query)\n",
    "  # Check for bar chart data and handle potential parsing error\n",
    "    if \"bar\" in llm_response:\n",
    "        try:\n",
    "          json_data = json.loads(llm_response)\n",
    "          if \"bar\" in json_data:\n",
    "              # Access bar chart data from json_data (replace data_path)\n",
    "              df = pd.DataFrame(json_data[\"bar\"])  # Assuming \"bar\" key holds data\n",
    "              df.set_index(\"columns\", inplace=True)\n",
    "              st.bar_chart(df)\n",
    "          else:\n",
    "              st.write(\"This response does not include a bar chart.\")\n",
    "        except json.JSONDecodeError as e:\n",
    "          st.error(f\"Error parsing response: {e}. The data might be incomplete.\")\n",
    "\n",
    "    # Display full response (optional)\n",
    "   # st.json(llm_response, expanded=True)"
   ]
  },
  {
   "cell_type": "code",
   "execution_count": 3,
   "id": "7577160c-9cfe-4892-bd77-3cb75c7cf8dc",
   "metadata": {},
   "outputs": [
    {
     "name": "stdout",
     "output_type": "stream",
     "text": [
      "78.144.162.82\n"
     ]
    },
    {
     "name": "stderr",
     "output_type": "stream",
     "text": [
      "  % Total    % Received % Xferd  Average Speed   Time    Time     Time  Current\n",
      "                                 Dload  Upload   Total   Spent    Left  Speed\n",
      "\n",
      "  0     0    0     0    0     0      0      0 --:--:-- --:--:-- --:--:--     0\n",
      "100    14  100    14    0     0    172      0 --:--:-- --:--:-- --:--:--   179\n",
      "curl: (3) URL rejected: No host part in the URL\n",
      "  % Total    % Received % Xferd  Average Speed   Time    Time     Time  Current\n",
      "                                 Dload  Upload   Total   Spent    Left  Speed\n",
      "\n",
      "  0     0    0     0    0     0      0      0 --:--:-- --:--:-- --:--:--     0\n",
      "  0     0    0     0    0     0      0      0 --:--:-- --:--:-- --:--:--     0\n",
      "  0     0    0     0    0     0      0      0 --:--:--  0:00:01 --:--:--     0\n",
      "  0     0    0     0    0     0      0      0 --:--:--  0:00:02 --:--:--     0curl: (6) Could not resolve host: password\n"
     ]
    }
   ],
   "source": [
    "!curl ipv4.icanhazip.com #localtunnel password"
   ]
  },
  {
   "cell_type": "code",
   "execution_count": null,
   "id": "17fff773-f535-4bd3-b729-d887dc254966",
   "metadata": {},
   "outputs": [],
   "source": [
    "!streamlit run llm_agent.py & npx localtunnel --port 8501"
   ]
  },
  {
   "cell_type": "code",
   "execution_count": 5,
   "id": "CRubCyNQJu95",
   "metadata": {
    "executionInfo": {
     "elapsed": 2699,
     "status": "ok",
     "timestamp": 1714338925040,
     "user": {
      "displayName": "",
      "userId": ""
     },
     "user_tz": -60
    },
    "id": "CRubCyNQJu95"
   },
   "outputs": [],
   "source": [
    "import vertexai\n",
    "from vertexai.generative_models import GenerativeModel, Part"
   ]
  },
  {
   "cell_type": "code",
   "execution_count": 27,
   "id": "VvkmZgjQJ2bc",
   "metadata": {
    "executionInfo": {
     "elapsed": 120,
     "status": "ok",
     "timestamp": 1714346413902,
     "user": {
      "displayName": "",
      "userId": ""
     },
     "user_tz": -60
    },
    "id": "VvkmZgjQJ2bc"
   },
   "outputs": [],
   "source": [
    "# Initialize Vertex AI\n",
    "vertexai.init(project=\"platinum-region-331817\", location=\"europe-west2\")\n",
    "# Load the model\n",
    "multimodal_model = GenerativeModel(model_name=\"gemini-1.5-pro-preview-0409\")"
   ]
  },
  {
   "cell_type": "code",
   "execution_count": 28,
   "id": "GfijGo5OKb8G",
   "metadata": {
    "colab": {
     "base_uri": "https://localhost:8080/"
    },
    "executionInfo": {
     "elapsed": 12515,
     "status": "ok",
     "timestamp": 1714346428925,
     "user": {
      "displayName": "",
      "userId": ""
     },
     "user_tz": -60
    },
    "id": "GfijGo5OKb8G",
    "outputId": "7e39a844-0b2a-41f6-cf5d-a599ee0c4bcf"
   },
   "outputs": [
    {
     "name": "stdout",
     "output_type": "stream",
     "text": [
      "## Analysis of LinkedIn Connections Plot:\n",
      "\n",
      "The plot showcases the number of LinkedIn connections made each year, likely for a specific individual or entity, from 2014 to 2024. The data is presented as a bar chart with the years on the x-axis and the count of connections on the y-axis. \n",
      "\n",
      "**Key observations:**\n",
      "\n",
      "* **Growth Trend:** There's a clear overall growth in connections over the years, with some fluctuations.\n",
      "* **Significant Increase:** A substantial jump occurs between 2018 and 2020, indicating a period of active networking or increased visibility.\n",
      "* **Recent Dip:** The count appears to decrease slightly from the peak in 2020 to 2024, suggesting a potential slowdown in connection growth or a shift in networking strategy.\n",
      "* **Color Gradient:** The color gradient likely represents the year the connections were made, adding another layer of information to the visualization.\n",
      "\n",
      "**Potential factors influencing the trend:**\n",
      "\n",
      "* **Career progression:** Taking on new roles, responsibilities, or projects can lead to expanding one's network. \n",
      "* **Increased online presence:**  Actively engaging in LinkedIn groups, sharing content, and participating in discussions can boost visibility and connection requests.\n",
      "* **Attending industry events:** Conferences, workshops, and networking gatherings provide opportunities to connect with new people.\n",
      "* **Changes in industry or job market:** Shifts in the professional landscape can influence networking activity and the need to build new connections.\n",
      "\n",
      "**Additional insights require more information:**\n",
      "\n",
      "* **Specific context:** Understanding whose LinkedIn data this represents (individual, company, organization) would provide better context for interpreting the trends.\n",
      "* **Nature of connections:** Analyzing the types of connections (colleagues, industry peers, potential clients) would offer deeper insight into networking strategies and goals.\n",
      "* **External events:**  Knowing about any relevant external factors (economic changes, industry trends) could explain fluctuations in the connection count. \n",
      "\n",
      "**Overall, the plot provides a valuable snapshot of networking activity over time and prompts further investigation into the factors driving connection growth and potential areas for improvement.**\n",
      "\n"
     ]
    }
   ],
   "source": [
    "response = multimodal_model.generate_content(\n",
    "  [\n",
    "    # Add the saved image as input\n",
    "    Part.from_uri(\n",
    "      \"gs://cloud-ai-platform-dcf43ebd-d979-4955-851a-86a498c22d60/101.png\",  # Replace with your image path in Google Storage\n",
    "      mime_type=\"image/png\"\n",
    "    ),\n",
    "    # Add a query related to the image content\n",
    "    \"Describe the plot visualized in this image?\"\n",
    "  ]\n",
    ")\n",
    "print(response.text)\n"
   ]
  },
  {
   "cell_type": "code",
   "execution_count": 29,
   "id": "fYmPH5j--xqo",
   "metadata": {
    "colab": {
     "base_uri": "https://localhost:8080/"
    },
    "executionInfo": {
     "elapsed": 12894,
     "status": "ok",
     "timestamp": 1714346452752,
     "user": {
      "displayName": "",
      "userId": ""
     },
     "user_tz": -60
    },
    "id": "fYmPH5j--xqo",
    "outputId": "a34fe084-244f-4930-875c-6e01ba9bff3c"
   },
   "outputs": [
    {
     "name": "stdout",
     "output_type": "stream",
     "text": [
      "## Analysis of LinkedIn Connections Plot\n",
      "\n",
      "The plot displays the top 25 companies based on the number of LinkedIn connections of a specific individual (whose data the plot represents). The companies are listed on the x-axis, while the y-axis represents the count of connections within each company. \n",
      "\n",
      "**Key Observations:**\n",
      "\n",
      "* **Company Distribution:** The individual seems to have connections across diverse industries including:\n",
      "    * **Financial Services:**  r3,  pitchbook data,  bank abc,  j.p. morgan,  banca akros,  jpmorgan chase & co.,  insurwave,  preqin,  hsbc,  ashmore \n",
      "    * **Technology:**  google,  microsoft,  amazon,  scm group spa\n",
      "    * **Consulting/Professional Services:**  deloitte,  scm group \n",
      "    * **Startups/Venture Capital:**  antler,  stealth startup,  opinno,  innovationquarter,  self-employed,  pitchbook \n",
      "    * **Other:**  meta, ey\n",
      "* **Connection Concentration:** The distribution of connections is highly skewed. \n",
      "    * A large portion of the individual's connections are concentrated within the top few companies:  r3,  pitchbook data,  antler . \n",
      "    * The majority of companies have a relatively low number of connections (less than 15).\n",
      "\n",
      "**Possible Interpretations:**\n",
      "\n",
      "* The individual's professional background or current role might be closely related to the  financial services  and/or  technology  industries, given the higher concentration of connections in those areas.\n",
      "* They may have previously worked at or have significant interaction with the top companies ( r3,  pitchbook data,  antler ).\n",
      "* The individual appears to have a diverse network, spanning various industries and company types.\n",
      "\n",
      "**Additional Considerations:**\n",
      "\n",
      "* The specific date or time period when this data was collected is not provided, which could influence the interpretation of the connections. \n",
      "* The individual's criteria for connecting with people on LinkedIn is unknown. Analyzing their connections based on job titles, location, or other factors could provide further insights.\n",
      "\n",
      "\n",
      "**Overall, the plot provides a valuable snapshot of the individual's professional network and potential areas of expertise or interest.** \n",
      "\n"
     ]
    }
   ],
   "source": [
    "response = multimodal_model.generate_content(\n",
    "  [\n",
    "    # Add the saved image as input\n",
    "    Part.from_uri(\n",
    "      \"gs://cloud-ai-platform-dcf43ebd-d979-4955-851a-86a498c22d60/102.png\",  # Replace with your image path in Google Storage\n",
    "      mime_type=\"image/png\"\n",
    "    ),\n",
    "    # Add a query related to the image content\n",
    "    \"Describe the plot visualized in this image?\"\n",
    "  ]\n",
    ")\n",
    "print(response.text)"
   ]
  },
  {
   "cell_type": "code",
   "execution_count": 30,
   "id": "HRszvpt8-yRn",
   "metadata": {
    "colab": {
     "base_uri": "https://localhost:8080/"
    },
    "executionInfo": {
     "elapsed": 10120,
     "status": "ok",
     "timestamp": 1714346482133,
     "user": {
      "displayName": "",
      "userId": ""
     },
     "user_tz": -60
    },
    "id": "HRszvpt8-yRn",
    "outputId": "c4c00fcb-7676-47a8-9c29-f0df70921728"
   },
   "outputs": [
    {
     "name": "stdout",
     "output_type": "stream",
     "text": [
      "## Description of the Plot\n",
      "\n",
      "The image visualizes the **top 25 job positions** held by an individual's connections on LinkedIn, based on the count of individuals holding each position.  \n",
      "\n",
      "**Here's a breakdown of the plot:**\n",
      "\n",
      "* **Type:** Scatter plot, likely created using a software like Tableau or Power BI.\n",
      "* **X-axis:** Represents different job positions, categorized and arranged horizontally.\n",
      "* **Y-axis:** Represents the count of LinkedIn connections holding each specific position.\n",
      "* **Data Points:** Each dot represents a specific job position. The position of the dot on the Y-axis reflects the number of connections with that job title. \n",
      "* **Color Coding:**  Different colors are used to distinguish between different types of positions. For example:\n",
      "    * **Blue:** Founder\n",
      "    * **Red:** Partner\n",
      "    * **Green:** Co-Founder\n",
      "    * **Purple:** Director\n",
      "    * **Orange:** Managing Director\n",
      "* **Insights:**\n",
      "    * **Founder** seems to be the most frequent position among the connections.\n",
      "    * Positions like **Partner, Co-Founder, Director, and Managing Director** are also common, suggesting a network heavily involved in leadership and entrepreneurial roles.\n",
      "    * The plot indicates a network with significant representation in **investment and management** roles, as evident from positions like Investment Manager, Associate, CEO, Managing Director, etc.\n",
      "    *  **Consultant and Board Member** seem to be less frequent roles within the network.\n",
      "\n",
      "**Overall, the plot provides a clear picture of the professional landscape of the individual's LinkedIn network, highlighting a strong presence of entrepreneurs, investors, and individuals in leadership positions.** \n",
      "\n"
     ]
    }
   ],
   "source": [
    "response = multimodal_model.generate_content(\n",
    "  [\n",
    "    # Add the saved image as input\n",
    "    Part.from_uri(\n",
    "      \"gs://cloud-ai-platform-dcf43ebd-d979-4955-851a-86a498c22d60/103.png\",  # Replace with your image path in Google Storage\n",
    "      mime_type=\"image/png\"\n",
    "    ),\n",
    "    # Add a query related to the image content\n",
    "    \"Describe the plot visualized in this image?\"\n",
    "  ]\n",
    ")\n",
    "print(response.text)"
   ]
  },
  {
   "cell_type": "markdown",
   "id": "kec7mK58AyrG",
   "metadata": {
    "id": "kec7mK58AyrG"
   },
   "source": []
  }
 ],
 "metadata": {
  "colab": {
   "name": "jayani4it.123 (Apr 26, 2024, 12:04:21 PM)",
   "provenance": []
  },
  "kernelspec": {
   "display_name": "Python 3 (ipykernel)",
   "language": "python",
   "name": "python3"
  },
  "language_info": {
   "codemirror_mode": {
    "name": "ipython",
    "version": 3
   },
   "file_extension": ".py",
   "mimetype": "text/x-python",
   "name": "python",
   "nbconvert_exporter": "python",
   "pygments_lexer": "ipython3",
   "version": "3.10.0"
  }
 },
 "nbformat": 4,
 "nbformat_minor": 5
}
